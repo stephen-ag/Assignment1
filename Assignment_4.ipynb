{
 "cells": [
  {
   "cell_type": "markdown",
   "metadata": {},
   "source": [
    "## 1.1  Python Program(with class concepts) to find the area of the triangle using  formula."
   ]
  },
  {
   "cell_type": "code",
   "execution_count": 1,
   "metadata": {},
   "outputs": [
    {
     "name": "stdout",
     "output_type": "stream",
     "text": [
      "Enter side1 of triange: 3\n",
      "Enter side2 of triange: 4\n",
      "Enter side3 of triange: 5\n",
      "Area of traingle is: 6.0\n"
     ]
    }
   ],
   "source": [
    "# find the area of triangle with 3 sides inputs\n",
    "class triangle:\n",
    "    def __init__(self,a,b,c):\n",
    "        self.a =a\n",
    "        self.b =b\n",
    "        self.c =c\n",
    "        \n",
    "    def area(self):\n",
    "        s=(self.a+self.b+self.c)/2\n",
    "        areatri=(s*(s-self.a)*(s-self.b)*(s-self.c))**0.5\n",
    "        return(areatri)\n",
    "    \n",
    "a=float(input(\"Enter side1 of triange: \"))\n",
    "b=float(input(\"Enter side2 of triange: \"))\n",
    "c=float(input(\"Enter side3 of triange: \"))\n",
    "\n",
    "res=triangle(a,b,c)\n",
    "print(\"Area of traingle is:\",res.area())"
   ]
  },
  {
   "cell_type": "markdown",
   "metadata": {},
   "source": [
    "## 1.2 Write a function filter_long_words() that takes a list of words and an integer n and returns the list of words that are longer than n."
   ]
  },
  {
   "cell_type": "code",
   "execution_count": 10,
   "metadata": {},
   "outputs": [
    {
     "name": "stdout",
     "output_type": "stream",
     "text": [
      "Enter the list of words: \n",
      "Type quit to exit \n",
      "one\n",
      "two\n",
      "master\n",
      "slave\n",
      "things\n",
      "brave\n",
      "quit\n",
      "The List is: ['one', 'two', 'master', 'slave', 'things', 'brave']\n",
      "enter the integer number:3\n",
      "\n",
      " List of words greater than 3 is ['master', 'slave', 'things', 'brave']\n"
     ]
    }
   ],
   "source": [
    "# !!!! programme to list the words that are longer than n  !!!!!\n",
    "\n",
    "def filter_long_words():\n",
    "    \n",
    "    words=[]\n",
    "    new_name =''\n",
    "    while new_name!= 'quit': \n",
    "        new_name=(input())\n",
    "        if new_name !='quit':\n",
    "            words.append(new_name)\n",
    "    print(\"The List is:\",words)  \n",
    "\n",
    "    global n\n",
    "    n=int(input('enter the integer number:'))\n",
    "    \n",
    "    res=[]\n",
    "    for i in words:\n",
    "        if len(i)>n:\n",
    "            res.append(i)\n",
    "    return res\n",
    "\n",
    "def main():\n",
    "    print(\"Enter the list of words: \")\n",
    "    print(\"Type quit to exit \")\n",
    "    output=filter_long_words()   \n",
    "    print(\"\\n List of words greater than\",n,\"is\",output)\n",
    "    \n",
    "main()    "
   ]
  },
  {
   "cell_type": "markdown",
   "metadata": {},
   "source": [
    "## 2.1 Write a Python program using function concept that maps list of words into a list of integers representing the lengths of the corresponding words .Hint: If a list [ ab,cde,erty] is passed on to the python function output should come as [2,3,4] Here 2,3 and 4 are the lengths of the words in the list."
   ]
  },
  {
   "cell_type": "code",
   "execution_count": 4,
   "metadata": {},
   "outputs": [
    {
     "name": "stdout",
     "output_type": "stream",
     "text": [
      "Enter the list of words: \n",
      "Type quit to exit \n",
      "one\n",
      "fine\n",
      "day\n",
      "hard\n",
      "working\n",
      "pays\n",
      "quit\n",
      "The List is: ['one', 'fine', 'day', 'hard', 'working', 'pays']\n",
      "\n",
      " List of words number are [3, 4, 3, 4, 7, 4]\n"
     ]
    }
   ],
   "source": [
    "# !!!! programme to list the words to list of integer  !!!!!\n",
    "\n",
    "print(\"Enter the list of words: \")\n",
    "print(\"Type quit to exit \")\n",
    "\n",
    "def words_number():\n",
    "    \n",
    "    word=[]\n",
    "    new_name =''\n",
    "    while new_name!= 'quit': \n",
    "        new_name=(input())\n",
    "        if new_name !='quit':\n",
    "            word.append(new_name)\n",
    "    print(\"The List is:\",word)  \n",
    "\n",
    "    count=[]\n",
    "    for i in word:\n",
    "        count.append(len(i)) \n",
    "    return(count)\n",
    "\n",
    "    \n",
    "output=words_number()   \n",
    "print(\"\\n List of words number are\",output)\n",
    "    "
   ]
  },
  {
   "cell_type": "markdown",
   "metadata": {},
   "source": [
    "# 2.2 Python function which takes a character (i.e. a string of length 1) and returns True if it is a vowel, False otherwise."
   ]
  },
  {
   "cell_type": "code",
   "execution_count": 8,
   "metadata": {},
   "outputs": [
    {
     "name": "stdout",
     "output_type": "stream",
     "text": [
      "enter character :a\n",
      "condition is  True\n"
     ]
    }
   ],
   "source": [
    "def vowel():  \n",
    "    \n",
    "    a=str(input(\"enter character :\"))\n",
    "    vowel=('a','e','i','o','u')\n",
    "    if a in vowel:\n",
    "        return(True)\n",
    "    else:\n",
    "        return(False)\n",
    "    \n",
    "result= vowel()\n",
    "print(\"condition is \",result)"
   ]
  }
 ],
 "metadata": {
  "kernelspec": {
   "display_name": "Python 3",
   "language": "python",
   "name": "python3"
  },
  "language_info": {
   "codemirror_mode": {
    "name": "ipython",
    "version": 3
   },
   "file_extension": ".py",
   "mimetype": "text/x-python",
   "name": "python",
   "nbconvert_exporter": "python",
   "pygments_lexer": "ipython3",
   "version": "3.7.1"
  }
 },
 "nbformat": 4,
 "nbformat_minor": 4
}
