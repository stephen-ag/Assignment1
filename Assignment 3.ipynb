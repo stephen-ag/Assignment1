{
 "cells": [
  {
   "cell_type": "markdown",
   "metadata": {},
   "source": [
    "# 1.1 Python Program to implement  own myreduce() function"
   ]
  },
  {
   "cell_type": "code",
   "execution_count": 1,
   "metadata": {},
   "outputs": [
    {
     "name": "stdout",
     "output_type": "stream",
     "text": [
      "\n",
      " Output:\n",
      " Multiplication result is: 5040\n"
     ]
    }
   ],
   "source": [
    "# creating own myreduce with Multiplication func which returns 'a'\n",
    "\n",
    "def myreduce(mult,list1):\n",
    "    return a\n",
    "\n",
    "# function to add two numbers \n",
    "def mult(a,b):\n",
    "    return(a*b)\n",
    "\n",
    "# list containing the numbers to be iterated\n",
    "list1=[1,2,3,4,5,6,7]\n",
    "\n",
    "a=list1[0] # assigning 1st element and then add with other variable\n",
    "\n",
    "n=len(list1)\n",
    "for i in range(1,n):\n",
    "    b=list1[i] # assigning the 2nd element and then passing this to a function to add.\n",
    "    a=mult(a,b)\n",
    "    \n",
    "s=myreduce(mult,list1)\n",
    "print(\"\\n Output:\\n Multiplication result is:\",s ) \n"
   ]
  },
  {
   "cell_type": "code",
   "execution_count": null,
   "metadata": {},
   "outputs": [],
   "source": [
    "# reduce(lambda a,b :a*b,list_1)-- python inbuilt function"
   ]
  },
  {
   "cell_type": "markdown",
   "metadata": {},
   "source": [
    "# 1.2 Python Program to implement  own myfilter() function"
   ]
  },
  {
   "cell_type": "code",
   "execution_count": null,
   "metadata": {},
   "outputs": [],
   "source": [
    "#filter inbuilt function:\n",
    "#a=filter(lambda p: p>=10,[1,2,5,7,8,10,22,54])\n",
    "#print(list(a))"
   ]
  },
  {
   "cell_type": "code",
   "execution_count": 2,
   "metadata": {},
   "outputs": [
    {
     "name": "stdout",
     "output_type": "stream",
     "text": [
      "\n",
      " Output: \n",
      " list of numbers >= 10 are: [12, 77, 10, 22, 54]\n"
     ]
    }
   ],
   "source": [
    "#own filter function:\n",
    "\n",
    "def myfilter(greater,list_a):\n",
    "    return greater(a)\n",
    "\n",
    "list_a=[1,12,5,77,8,10,22,54]\n",
    "res=[]\n",
    "def greater(a):\n",
    "    \n",
    "    for i in list_a:\n",
    "        if i>=10:\n",
    "            res.append(i) \n",
    "    return(res) \n",
    "\n",
    "r=myfilter(greater,list_a)\n",
    "print(\"\\n Output: \\n list of numbers >= 10 are:\",r )\n"
   ]
  },
  {
   "cell_type": "markdown",
   "metadata": {},
   "source": [
    "# 2.0 Write List comprehensions to produce the following Lists"
   ]
  },
  {
   "cell_type": "code",
   "execution_count": null,
   "metadata": {},
   "outputs": [],
   "source": [
    "'''['x', 'xx', 'xxx', 'xxxx', 'y', 'yy', 'yyy', 'yyyy', 'z', 'zz', 'zzz', 'zzzz']\n",
    "['x', 'y', 'z', 'xx', 'yy', 'zz', 'xxx', 'yyy', 'zzz', 'xxxx', 'yyyy', 'zzzz']\n",
    "[[2], [3], [4], [3], [4], [5], [4], [5], [6]] \n",
    "[[2, 3, 4, 5], [3, 4, 5, 6],[4, 5, 6, 7], [5, 6, 7, 8]]\n",
    "[(1, 1), (2, 1), (3, 1), (1, 2), (2, 2), (3, 2), (1, 3), (2, 3), (3, 3)]'''"
   ]
  },
  {
   "cell_type": "code",
   "execution_count": 3,
   "metadata": {},
   "outputs": [
    {
     "name": "stdout",
     "output_type": "stream",
     "text": [
      "['x', 'xx', 'xxx', 'xxxx', 'y', 'yy', 'yyy', 'yyyy', 'z', 'zz', 'zzz', 'zzzz']\n"
     ]
    }
   ],
   "source": [
    "list_n=list('xyz')\n",
    "out1= (i*n for i in list_n for n in range(1,5))\n",
    "print(list(out1))"
   ]
  },
  {
   "cell_type": "code",
   "execution_count": 4,
   "metadata": {},
   "outputs": [
    {
     "name": "stdout",
     "output_type": "stream",
     "text": [
      "['x', 'y', 'z', 'xx', 'yy', 'zz', 'xxx', 'yyy', 'zzz', 'xxxx', 'yyyy', 'zzzz']\n"
     ]
    }
   ],
   "source": [
    "head1= list('xyz')\n",
    "head2=([n*i for n in range(1,5) for i in head1])\n",
    "print(list(head2))"
   ]
  },
  {
   "cell_type": "code",
   "execution_count": 5,
   "metadata": {},
   "outputs": [
    {
     "name": "stdout",
     "output_type": "stream",
     "text": [
      "[[2], [3], [4], [3], [4], [5], [4], [5], [6]]\n"
     ]
    }
   ],
   "source": [
    "number=[2,3,4]\n",
    "number_1=[[x+n] for x in number for n in range(0,3)]\n",
    "print(number_1)"
   ]
  },
  {
   "cell_type": "code",
   "execution_count": 6,
   "metadata": {},
   "outputs": [
    {
     "name": "stdout",
     "output_type": "stream",
     "text": [
      "[[2, 3, 4, 5], [3, 4, 5, 6], [4, 5, 6, 7], [5, 6, 7, 8]]\n"
     ]
    }
   ],
   "source": [
    "out=([[n+i for i in range(2,6)] for n in range(0,4)])\n",
    "print(list(out))"
   ]
  },
  {
   "cell_type": "code",
   "execution_count": 7,
   "metadata": {},
   "outputs": [
    {
     "name": "stdout",
     "output_type": "stream",
     "text": [
      "[(1, 1), (2, 1), (3, 1), (1, 2), (2, 2), (3, 2), (1, 3), (2, 3), (3, 3)]\n"
     ]
    }
   ],
   "source": [
    "output=((i,j) for j in range(1,4) for i in range(1,4))\n",
    "print(list(output))"
   ]
  }
 ],
 "metadata": {
  "kernelspec": {
   "display_name": "Python 3",
   "language": "python",
   "name": "python3"
  },
  "language_info": {
   "codemirror_mode": {
    "name": "ipython",
    "version": 3
   },
   "file_extension": ".py",
   "mimetype": "text/x-python",
   "name": "python",
   "nbconvert_exporter": "python",
   "pygments_lexer": "ipython3",
   "version": "3.7.1"
  }
 },
 "nbformat": 4,
 "nbformat_minor": 4
}
