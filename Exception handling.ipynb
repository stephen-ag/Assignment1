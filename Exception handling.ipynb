{
 "cells": [
  {
   "cell_type": "markdown",
   "metadata": {},
   "source": [
    "# 1. Assignment Exception handling\n",
    "\n",
    "computute 5/0 and use try and except to catch the exception\n"
   ]
  },
  {
   "cell_type": "code",
   "execution_count": 1,
   "metadata": {},
   "outputs": [
    {
     "name": "stdout",
     "output_type": "stream",
     "text": [
      "Error occured while dividing by Zero:\n"
     ]
    }
   ],
   "source": [
    "#computute 5/0 and use try and except to catch the exception\n",
    "def division(a,b):\n",
    "    try:\n",
    "        #a=5\n",
    "        #b=0\n",
    "        value= a/b\n",
    "        if value >1:\n",
    "            print(\"number is divisible and value =\",value)\n",
    "        else:\n",
    "            print(\"division yields Decimal value=\",value)\n",
    "            \n",
    "    except ZeroDivisionError:\n",
    "        print (\"Error occured while dividing by Zero:\")\n",
    "        \n",
    "division(5,0)        \n",
    "        "
   ]
  },
  {
   "cell_type": "markdown",
   "metadata": {},
   "source": [
    "# 2. Generate sentences. "
   ]
  },
  {
   "cell_type": "code",
   "execution_count": 2,
   "metadata": {},
   "outputs": [
    {
     "name": "stdout",
     "output_type": "stream",
     "text": [
      "Americans play Basketball.\n",
      "Americans play Cricket.\n",
      "Americans watch Basketball.\n",
      "Americans watch Cricket.\n",
      "Indians play Basketball.\n",
      "Indians play Cricket.\n",
      "Indians watch Basketball.\n",
      "Indians watch Cricket.\n"
     ]
    }
   ],
   "source": [
    "import os\n",
    "\n",
    "subjects = ['Americans','Indians']\n",
    "verb = [\"play\", \"watch\"]\n",
    "objects = [\"Basketball\",\"Cricket\"]\n",
    "\n",
    "for i in range(0,len(subjects)):\n",
    "    for j in range(0,len(verb)):\n",
    "        for s in range(0,len(objects)):\n",
    "            print(subjects[i] + \"\", verb[j] + \"\", objects[s]+\".\")\n",
    "        \n"
   ]
  },
  {
   "cell_type": "code",
   "execution_count": null,
   "metadata": {},
   "outputs": [],
   "source": []
  }
 ],
 "metadata": {
  "kernelspec": {
   "display_name": "Python 3",
   "language": "python",
   "name": "python3"
  },
  "language_info": {
   "codemirror_mode": {
    "name": "ipython",
    "version": 3
   },
   "file_extension": ".py",
   "mimetype": "text/x-python",
   "name": "python",
   "nbconvert_exporter": "python",
   "pygments_lexer": "ipython3",
   "version": "3.7.1"
  }
 },
 "nbformat": 4,
 "nbformat_minor": 4
}
